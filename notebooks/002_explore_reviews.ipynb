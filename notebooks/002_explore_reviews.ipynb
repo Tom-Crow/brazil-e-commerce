{
 "cells": [
  {
   "cell_type": "code",
   "execution_count": 2,
   "id": "a88eaa19",
   "metadata": {},
   "outputs": [],
   "source": [
    "import os\n",
    "import sys\n",
    "\n",
    "import matplotlib.pyplot as plt\n",
    "import pandas as pd\n",
    "import seaborn as sns\n",
    "import unidecode\n",
    "\n",
    "module_path = os.path.abspath(os.path.join('..'))\n",
    "if module_path not in sys.path:\n",
    "    sys.path.append(module_path)\n",
    "    \n",
    "from src.db_functions import create_sql_alchemy_db_engine\n",
    "from src.helpers import remove_accents\n",
    "from src.plot_helpers import set_matplotlib_defaults"
   ]
  },
  {
   "cell_type": "code",
   "execution_count": 3,
   "id": "340a95cf",
   "metadata": {},
   "outputs": [],
   "source": [
    "set_matplotlib_defaults()\n"
   ]
  },
  {
   "cell_type": "code",
   "execution_count": 4,
   "id": "631f2e0d",
   "metadata": {},
   "outputs": [],
   "source": [
    "conn = create_sql_alchemy_db_engine()"
   ]
  },
  {
   "cell_type": "code",
   "execution_count": 7,
   "id": "231155bd",
   "metadata": {},
   "outputs": [],
   "source": [
    "reviews = pd.read_sql(\"SELECT * FROM order_reviews\", conn)"
   ]
  },
  {
   "cell_type": "code",
   "execution_count": 16,
   "id": "3d573172",
   "metadata": {},
   "outputs": [
    {
     "data": {
      "text/html": [
       "<div>\n",
       "<style scoped>\n",
       "    .dataframe tbody tr th:only-of-type {\n",
       "        vertical-align: middle;\n",
       "    }\n",
       "\n",
       "    .dataframe tbody tr th {\n",
       "        vertical-align: top;\n",
       "    }\n",
       "\n",
       "    .dataframe thead th {\n",
       "        text-align: right;\n",
       "    }\n",
       "</style>\n",
       "<table border=\"1\" class=\"dataframe\">\n",
       "  <thead>\n",
       "    <tr style=\"text-align: right;\">\n",
       "      <th></th>\n",
       "      <th>review_score</th>\n",
       "      <th>review_creation_date</th>\n",
       "      <th>review_answer_timestamp</th>\n",
       "    </tr>\n",
       "  </thead>\n",
       "  <tbody>\n",
       "    <tr>\n",
       "      <th>count</th>\n",
       "      <td>99224.000000</td>\n",
       "      <td>99224</td>\n",
       "      <td>99224</td>\n",
       "    </tr>\n",
       "    <tr>\n",
       "      <th>mean</th>\n",
       "      <td>4.086421</td>\n",
       "      <td>2018-01-12 20:49:23.948238336</td>\n",
       "      <td>2018-01-16 00:23:56.977938432</td>\n",
       "    </tr>\n",
       "    <tr>\n",
       "      <th>min</th>\n",
       "      <td>1.000000</td>\n",
       "      <td>2016-10-02 00:00:00</td>\n",
       "      <td>2016-10-07 18:32:28</td>\n",
       "    </tr>\n",
       "    <tr>\n",
       "      <th>25%</th>\n",
       "      <td>4.000000</td>\n",
       "      <td>2017-09-23 00:00:00</td>\n",
       "      <td>2017-09-27 01:53:27.249999872</td>\n",
       "    </tr>\n",
       "    <tr>\n",
       "      <th>50%</th>\n",
       "      <td>5.000000</td>\n",
       "      <td>2018-02-02 00:00:00</td>\n",
       "      <td>2018-02-04 22:41:47.500000</td>\n",
       "    </tr>\n",
       "    <tr>\n",
       "      <th>75%</th>\n",
       "      <td>5.000000</td>\n",
       "      <td>2018-05-16 00:00:00</td>\n",
       "      <td>2018-05-20 12:11:21.500000</td>\n",
       "    </tr>\n",
       "    <tr>\n",
       "      <th>max</th>\n",
       "      <td>5.000000</td>\n",
       "      <td>2018-08-31 00:00:00</td>\n",
       "      <td>2018-10-29 12:27:35</td>\n",
       "    </tr>\n",
       "    <tr>\n",
       "      <th>std</th>\n",
       "      <td>1.347579</td>\n",
       "      <td>NaN</td>\n",
       "      <td>NaN</td>\n",
       "    </tr>\n",
       "  </tbody>\n",
       "</table>\n",
       "</div>"
      ],
      "text/plain": [
       "       review_score           review_creation_date  \\\n",
       "count  99224.000000                          99224   \n",
       "mean       4.086421  2018-01-12 20:49:23.948238336   \n",
       "min        1.000000            2016-10-02 00:00:00   \n",
       "25%        4.000000            2017-09-23 00:00:00   \n",
       "50%        5.000000            2018-02-02 00:00:00   \n",
       "75%        5.000000            2018-05-16 00:00:00   \n",
       "max        5.000000            2018-08-31 00:00:00   \n",
       "std        1.347579                            NaN   \n",
       "\n",
       "             review_answer_timestamp  \n",
       "count                          99224  \n",
       "mean   2018-01-16 00:23:56.977938432  \n",
       "min              2016-10-07 18:32:28  \n",
       "25%    2017-09-27 01:53:27.249999872  \n",
       "50%       2018-02-04 22:41:47.500000  \n",
       "75%       2018-05-20 12:11:21.500000  \n",
       "max              2018-10-29 12:27:35  \n",
       "std                              NaN  "
      ]
     },
     "execution_count": 16,
     "metadata": {},
     "output_type": "execute_result"
    }
   ],
   "source": [
    "reviews.describe(datetime_is_numeric=True)"
   ]
  },
  {
   "cell_type": "code",
   "execution_count": 18,
   "id": "29141e72",
   "metadata": {},
   "outputs": [
    {
     "data": {
      "text/plain": [
       "review_id                  0.000000\n",
       "order_id                   0.000000\n",
       "review_score               0.000000\n",
       "review_comment_title       0.883415\n",
       "review_comment_message     0.587025\n",
       "review_creation_date       0.000000\n",
       "review_answer_timestamp    0.000000\n",
       "dtype: float64"
      ]
     },
     "execution_count": 18,
     "metadata": {},
     "output_type": "execute_result"
    }
   ],
   "source": [
    "reviews.isna().sum() / len(reviews)"
   ]
  },
  {
   "cell_type": "code",
   "execution_count": 25,
   "id": "8622988c",
   "metadata": {},
   "outputs": [
    {
     "data": {
      "text/plain": [
       "<AxesSubplot:ylabel='Frequency'>"
      ]
     },
     "execution_count": 25,
     "metadata": {},
     "output_type": "execute_result"
    },
    {
     "data": {
      "image/png": "[encoded data removed]",
      "text/plain": [
       "<Figure size 931.968x576 with 1 Axes>"
      ]
     },
     "metadata": {},
     "output_type": "display_data"
    }
   ],
   "source": [
    "reviews.review_score.plot.hist(bins=[0.5,1.5,2.5 , 3.5, 4.5, 5.5], d)"
   ]
  },
  {
   "cell_type": "code",
   "execution_count": null,
   "id": "9f836a53",
   "metadata": {},
   "outputs": [],
   "source": [
    "plt.hist()"
   ]
  }
 ],
 "metadata": {
  "kernelspec": {
   "display_name": "Python 3 (ipykernel)",
   "language": "python",
   "name": "python3"
  },
  "language_info": {
   "codemirror_mode": {
    "name": "ipython",
    "version": 3
   },
   "file_extension": ".py",
   "mimetype": "text/x-python",
   "name": "python",
   "nbconvert_exporter": "python",
   "pygments_lexer": "ipython3",
   "version": "3.8.0"
  }
 },
 "nbformat": 4,
 "nbformat_minor": 5
}
